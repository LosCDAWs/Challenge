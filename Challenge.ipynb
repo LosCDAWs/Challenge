{
 "cells": [
  {
   "cell_type": "markdown",
   "id": "terminal-music",
   "metadata": {},
   "source": [
    "# Challenge\n",
    "\n",
    "We are the team composed by:\n",
    "\n",
    "- Carlos Aznar (capitán)\n",
    "- Jason Carneiro\n",
    "- Elías Carrilo\n",
    "- Alejandro Rodríguez\n",
    "- Adrián Blázquez\n",
    "\n",
    "In this project we discuss how to make three models accurate and precise (one geometric, a decision tree and a GaussianNB). To do so:\n",
    "\n",
    "# 1. The knowledge domain is analyzed\n",
    "# 2. Exploratory analysis\n",
    "# 3. Machine learning model\n",
    "# 4. Result of the competition\n",
    "# 5. Presentation discussion\n"
   ]
  },
  {
   "cell_type": "markdown",
   "id": "increased-carnival",
   "metadata": {},
   "source": [
    "# 1. The knowledge domain is analyzed"
   ]
  },
  {
   "cell_type": "markdown",
   "id": "alpha-burke",
   "metadata": {},
   "source": [
    "# 2. Exploratory analysis"
   ]
  },
  {
   "cell_type": "markdown",
   "id": "retained-mandate",
   "metadata": {},
   "source": [
    "# 3. Machine learning model"
   ]
  },
  {
   "cell_type": "markdown",
   "id": "respected-drama",
   "metadata": {},
   "source": [
    "## 3.1. Geometric model"
   ]
  },
  {
   "cell_type": "markdown",
   "id": "associate-vancouver",
   "metadata": {},
   "source": [
    "## 3.2. Decision tree"
   ]
  },
  {
   "cell_type": "markdown",
   "id": "comfortable-travel",
   "metadata": {},
   "source": [
    "## 3.3. GaussianNB"
   ]
  }
 ],
 "metadata": {
  "kernelspec": {
   "display_name": "Python 3",
   "language": "python",
   "name": "python3"
  },
  "language_info": {
   "codemirror_mode": {
    "name": "ipython",
    "version": 3
   },
   "file_extension": ".py",
   "mimetype": "text/x-python",
   "name": "python",
   "nbconvert_exporter": "python",
   "pygments_lexer": "ipython3",
   "version": "3.7.10"
  }
 },
 "nbformat": 4,
 "nbformat_minor": 5
}
